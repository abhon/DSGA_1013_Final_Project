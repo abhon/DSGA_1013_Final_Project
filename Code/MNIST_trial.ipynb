{
 "cells": [
  {
   "cell_type": "code",
   "execution_count": 1,
   "metadata": {},
   "outputs": [],
   "source": [
    "import torch\n",
    "import torchvision\n",
    "import torchvision.transforms as transforms\n",
    "import torch.nn as nn\n",
    "import torch.nn.functional as F\n",
    "import torch.optim as optim\n",
    "import matplotlib.pyplot as plt\n",
    "import numpy as np"
   ]
  },
  {
   "cell_type": "markdown",
   "metadata": {},
   "source": [
    "## Data Load\n",
    "\n",
    "We used MNIST data from the pytorch library, normalizing by its mean(0.1307), and its std(0.3081).\n"
   ]
  },
  {
   "cell_type": "code",
   "execution_count": 2,
   "metadata": {},
   "outputs": [],
   "source": [
    "transform = transforms.Compose([transforms.ToTensor(), \n",
    "                                transforms.Normalize((0.1307,), (0.3081,))])\n",
    "#from online: the mean of MNIST is 0.1307, the std 0.3081\n",
    "# https://discuss.pytorch.org/t/normalization-in-the-mnist-example/457\n",
    "\n",
    "trainset = torchvision.datasets.MNIST(root= '../data', train=True,\n",
    "                                        download=True, transform=transform)\n",
    "#keep batches in 4\n",
    "trainloader = torch.utils.data.DataLoader(trainset, batch_size=4,\n",
    "                                          shuffle=True, num_workers=2)\n",
    "\n",
    "testset = torchvision.datasets.MNIST(root='../data', train=False,\n",
    "                                        download=True, transform=transform)\n",
    "\n",
    "testloader = torch.utils.data.DataLoader(testset, batch_size=4,\n",
    "                                          shuffle=True, num_workers=2)"
   ]
  },
  {
   "cell_type": "code",
   "execution_count": 3,
   "metadata": {},
   "outputs": [],
   "source": [
    "classes = tuple(str(x) for x in range(10))"
   ]
  },
  {
   "cell_type": "code",
   "execution_count": 4,
   "metadata": {},
   "outputs": [],
   "source": [
    "def imgshow(img):\n",
    "    img = img*0.3081 + 0.1307\n",
    "    npimg = img.numpy()\n",
    "    plt.imshow(np.transpose(npimg, (1,2,0)))\n",
    "    plt.show()"
   ]
  },
  {
   "cell_type": "code",
   "execution_count": 5,
   "metadata": {},
   "outputs": [
    {
     "data": {
      "image/png": "[encoded data removed]",
      "text/plain": [
       "<Figure size 432x288 with 1 Axes>"
      ]
     },
     "metadata": {
      "needs_background": "light"
     },
     "output_type": "display_data"
    },
    {
     "name": "stdout",
     "output_type": "stream",
     "text": [
      "    2     2     0     0\n"
     ]
    }
   ],
   "source": [
    "dataiter = iter(trainloader)\n",
    "images, labels = dataiter.next()\n",
    "\n",
    "# show images\n",
    "imgshow(torchvision.utils.make_grid(images))\n",
    "# print labels\n",
    "print(' '.join('%5s' % classes[labels[j]] for j in range(4)))\n",
    "#batchsize is 4, which is we can show images in groups of 4"
   ]
  },
  {
   "cell_type": "markdown",
   "metadata": {},
   "source": [
    "## Define the Neural Network\n",
    "\n",
    "This neural network was taken from the pytorch example for MaxPooling on the MNIST dataset. Since the model performs with good accuracy, we stay with their model.\n",
    "https://github.com/pytorch/examples/tree/1de2ff9338bacaaffa123d03ce53d7522d5dcc2e/mnist"
   ]
  },
  {
   "cell_type": "code",
   "execution_count": 18,
   "metadata": {},
   "outputs": [],
   "source": [
    "class Net(nn.Module):\n",
    "    def __init__(self):\n",
    "        super(Net, self).__init__()\n",
    "        self.conv1 = nn.Conv2d(1, 32, 3, 1)\n",
    "        self.conv2 = nn.Conv2d(32, 64, 3, 1)\n",
    "        self.dropout1 = nn.Dropout2d(0.25)\n",
    "        self.dropout2 = nn.Dropout2d(0.5)\n",
    "        self.fc1 = nn.Linear(9216, 128)\n",
    "        self.fc2 = nn.Linear(128, 10)\n",
    "\n",
    "    def forward(self, x):\n",
    "        x = self.conv1(x)\n",
    "        x = F.relu(x)\n",
    "        x = self.conv2(x)\n",
    "        x = F.relu(x)\n",
    "        x = F.max_pool2d(x, 2)\n",
    "        x = self.dropout1(x)\n",
    "        x = torch.flatten(x, 1)\n",
    "        x = self.fc1(x)\n",
    "        x = F.relu(x)\n",
    "        x = self.dropout2(x)\n",
    "        x = self.fc2(x)\n",
    "        output = F.log_softmax(x, dim=1)\n",
    "        return output\n",
    "\n",
    "net = Net()"
   ]
  },
  {
   "cell_type": "markdown",
   "metadata": {},
   "source": [
    "Use Cross Entropy Loss, SGD, find running loss and testing error per epoch"
   ]
  },
  {
   "cell_type": "code",
   "execution_count": 22,
   "metadata": {
    "collapsed": true,
    "jupyter": {
     "outputs_hidden": true
    }
   },
   "outputs": [
    {
     "name": "stdout",
     "output_type": "stream",
     "text": [
      "[1,  1000] loss: 0.920\n",
      "[1,  2000] loss: 0.194\n",
      "[1,  3000] loss: 0.092\n",
      "[1,  4000] loss: 0.059\n",
      "[1,  5000] loss: 0.042\n",
      "[1,  6000] loss: 0.034\n",
      "[1,  7000] loss: 0.025\n",
      "[1,  8000] loss: 0.020\n",
      "[1,  9000] loss: 0.016\n",
      "[1, 10000] loss: 0.013\n",
      "[1, 11000] loss: 0.012\n",
      "[1, 12000] loss: 0.012\n",
      "[1, 13000] loss: 0.010\n",
      "[1, 14000] loss: 0.009\n",
      "[1, 15000] loss: 0.007\n",
      "[2,  1000] loss: 0.097\n",
      "[2,  2000] loss: 0.051\n",
      "[2,  3000] loss: 0.035\n",
      "[2,  4000] loss: 0.027\n",
      "[2,  5000] loss: 0.017\n",
      "[2,  6000] loss: 0.015\n",
      "[2,  7000] loss: 0.013\n",
      "[2,  8000] loss: 0.010\n",
      "[2,  9000] loss: 0.011\n",
      "[2, 10000] loss: 0.011\n",
      "[2, 11000] loss: 0.009\n",
      "[2, 12000] loss: 0.007\n",
      "[2, 13000] loss: 0.006\n",
      "[2, 14000] loss: 0.007\n",
      "[2, 15000] loss: 0.007\n",
      "[3,  1000] loss: 0.074\n",
      "[3,  2000] loss: 0.041\n",
      "[3,  3000] loss: 0.023\n",
      "[3,  4000] loss: 0.019\n",
      "[3,  5000] loss: 0.012\n",
      "[3,  6000] loss: 0.013\n",
      "[3,  7000] loss: 0.012\n",
      "[3,  8000] loss: 0.008\n",
      "[3,  9000] loss: 0.008\n",
      "[3, 10000] loss: 0.007\n",
      "[3, 11000] loss: 0.007\n",
      "[3, 12000] loss: 0.006\n",
      "[3, 13000] loss: 0.006\n",
      "[3, 14000] loss: 0.005\n",
      "[3, 15000] loss: 0.004\n",
      "[4,  1000] loss: 0.068\n",
      "[4,  2000] loss: 0.031\n",
      "[4,  3000] loss: 0.021\n",
      "[4,  4000] loss: 0.014\n",
      "[4,  5000] loss: 0.012\n",
      "[4,  6000] loss: 0.010\n",
      "[4,  7000] loss: 0.009\n",
      "[4,  8000] loss: 0.008\n",
      "[4,  9000] loss: 0.007\n",
      "[4, 10000] loss: 0.005\n",
      "[4, 11000] loss: 0.006\n",
      "[4, 12000] loss: 0.005\n",
      "[4, 13000] loss: 0.005\n",
      "[4, 14000] loss: 0.004\n",
      "[4, 15000] loss: 0.004\n",
      "[5,  1000] loss: 0.062\n",
      "[5,  2000] loss: 0.030\n",
      "[5,  3000] loss: 0.019\n",
      "[5,  4000] loss: 0.012\n",
      "[5,  5000] loss: 0.012\n",
      "[5,  6000] loss: 0.009\n",
      "[5,  7000] loss: 0.007\n",
      "[5,  8000] loss: 0.006\n",
      "[5,  9000] loss: 0.005\n",
      "[5, 10000] loss: 0.006\n",
      "[5, 11000] loss: 0.005\n",
      "[5, 12000] loss: 0.005\n",
      "[5, 13000] loss: 0.003\n",
      "[5, 14000] loss: 0.004\n",
      "[5, 15000] loss: 0.003\n",
      "[6,  1000] loss: 0.048\n",
      "[6,  2000] loss: 0.025\n",
      "[6,  3000] loss: 0.013\n",
      "[6,  4000] loss: 0.011\n",
      "[6,  5000] loss: 0.008\n",
      "[6,  6000] loss: 0.008\n",
      "[6,  7000] loss: 0.006\n",
      "[6,  8000] loss: 0.006\n",
      "[6,  9000] loss: 0.006\n",
      "[6, 10000] loss: 0.005\n",
      "[6, 11000] loss: 0.004\n",
      "[6, 12000] loss: 0.004\n",
      "[6, 13000] loss: 0.003\n",
      "[6, 14000] loss: 0.003\n",
      "[6, 15000] loss: 0.003\n",
      "[7,  1000] loss: 0.048\n",
      "[7,  2000] loss: 0.021\n",
      "[7,  3000] loss: 0.015\n",
      "[7,  4000] loss: 0.012\n",
      "[7,  5000] loss: 0.007\n",
      "[7,  6000] loss: 0.007\n",
      "[7,  7000] loss: 0.006\n",
      "[7,  8000] loss: 0.004\n",
      "[7,  9000] loss: 0.005\n",
      "[7, 10000] loss: 0.004\n",
      "[7, 11000] loss: 0.004\n",
      "[7, 12000] loss: 0.003\n",
      "[7, 13000] loss: 0.003\n",
      "[7, 14000] loss: 0.003\n",
      "[7, 15000] loss: 0.003\n",
      "[8,  1000] loss: 0.042\n",
      "[8,  2000] loss: 0.014\n",
      "[8,  3000] loss: 0.010\n",
      "[8,  4000] loss: 0.008\n",
      "[8,  5000] loss: 0.008\n",
      "[8,  6000] loss: 0.007\n",
      "[8,  7000] loss: 0.004\n",
      "[8,  8000] loss: 0.005\n",
      "[8,  9000] loss: 0.004\n",
      "[8, 10000] loss: 0.004\n",
      "[8, 11000] loss: 0.003\n",
      "[8, 12000] loss: 0.003\n",
      "[8, 13000] loss: 0.002\n",
      "[8, 14000] loss: 0.003\n",
      "[8, 15000] loss: 0.003\n",
      "[9,  1000] loss: 0.040\n",
      "[9,  2000] loss: 0.016\n",
      "[9,  3000] loss: 0.010\n",
      "[9,  4000] loss: 0.010\n",
      "[9,  5000] loss: 0.005\n",
      "[9,  6000] loss: 0.006\n",
      "[9,  7000] loss: 0.003\n",
      "[9,  8000] loss: 0.005\n",
      "[9,  9000] loss: 0.005\n",
      "[9, 10000] loss: 0.004\n",
      "[9, 11000] loss: 0.003\n",
      "[9, 12000] loss: 0.002\n",
      "[9, 13000] loss: 0.003\n",
      "[9, 14000] loss: 0.002\n",
      "[9, 15000] loss: 0.003\n",
      "[10,  1000] loss: 0.030\n",
      "[10,  2000] loss: 0.014\n",
      "[10,  3000] loss: 0.010\n",
      "[10,  4000] loss: 0.008\n",
      "[10,  5000] loss: 0.007\n",
      "[10,  6000] loss: 0.005\n",
      "[10,  7000] loss: 0.005\n",
      "[10,  8000] loss: 0.004\n",
      "[10,  9000] loss: 0.003\n",
      "[10, 10000] loss: 0.003\n",
      "[10, 11000] loss: 0.003\n",
      "[10, 12000] loss: 0.002\n",
      "[10, 13000] loss: 0.003\n",
      "[10, 14000] loss: 0.002\n",
      "[10, 15000] loss: 0.002\n",
      "Finished Training\n"
     ]
    }
   ],
   "source": [
    "net = Net()\n",
    "train_error = []\n",
    "test_error = []\n",
    "\n",
    "#loss function\n",
    "criterion = nn.CrossEntropyLoss()\n",
    "#stochastic gradient descent\n",
    "optimizer = optim.SGD(net.parameters(), lr=0.001, momentum=0.9)\n",
    "\n",
    "\n",
    "for epoch in range(10):  # loop/over the dataset multiple times\n",
    "\n",
    "    running_loss = 0.0\n",
    "    num_images = 0\n",
    "    for i, data in enumerate(trainloader, 0):\n",
    "        # get the inputs; data is a list of [inputs, labels]\n",
    "        inputs, labels = data\n",
    "\n",
    "        # zero the parameter gradients\n",
    "        optimizer.zero_grad()\n",
    "\n",
    "        # forward + backward + optimize\n",
    "        outputs = net(inputs)\n",
    "        loss = criterion(outputs, labels)\n",
    "        loss.backward()\n",
    "        optimizer.step()\n",
    "        num_images += inputs.size(1)\n",
    "        # print statistics\n",
    "        running_loss += loss.item()\n",
    "        if i % 1000 == 999:    # print every 1000 mini-batches\n",
    "            print('[%d, %5d] loss: %.3f' %\n",
    "                  (epoch + 1, i + 1, running_loss / num_images))\n",
    "            train_error.append(running_loss / num_images)\n",
    "            running_loss = 0.0\n",
    "    \n",
    "    correct = 0\n",
    "    total = 0\n",
    "    with torch.no_grad():\n",
    "        for data in testloader:\n",
    "            images, labels = data\n",
    "            outputs = net(images)\n",
    "            _, predicted = torch.max(outputs.data, 1)\n",
    "            total += labels.size(0)\n",
    "            correct += (predicted == labels).sum().item()\n",
    "        \n",
    "        test_error.append(correct/total)\n",
    "        \n",
    "\n",
    "print('Finished Training')"
   ]
  },
  {
   "cell_type": "code",
   "execution_count": 25,
   "metadata": {},
   "outputs": [],
   "source": [
    "test_error = [1/i for i in test_error]"
   ]
  },
  {
   "cell_type": "code",
   "execution_count": 28,
   "metadata": {},
   "outputs": [
    {
     "data": {
      "text/plain": [
       "[<matplotlib.lines.Line2D at 0x122a00ba8>]"
      ]
     },
     "execution_count": 28,
     "metadata": {},
     "output_type": "execute_result"
    },
    {
     "data": {
      "image/png": "[encoded data removed]",
      "text/plain": [
       "<Figure size 432x288 with 1 Axes>"
      ]
     },
     "metadata": {
      "needs_background": "light"
     },
     "output_type": "display_data"
    }
   ],
   "source": [
    "plt.figure()\n",
    "plt.semilogy(train_error)"
   ]
  },
  {
   "cell_type": "code",
   "execution_count": 67,
   "metadata": {},
   "outputs": [
    {
     "data": {
      "image/png": "[encoded data removed]",
      "text/plain": [
       "<Figure size 432x288 with 1 Axes>"
      ]
     },
     "metadata": {
      "needs_background": "light"
     },
     "output_type": "display_data"
    },
    {
     "name": "stdout",
     "output_type": "stream",
     "text": [
      "GroundTruth:      5     8     9     0\n",
      "Predicted:      5     8     9     0\n"
     ]
    }
   ],
   "source": [
    "images, labels = dataiter.next()\n",
    "imgshow(torchvision.utils.make_grid(images))\n",
    "print('GroundTruth: ', ' '.join('%5s' % classes[labels[j]] for j in range(4)))\n",
    "outputs = net(images)\n",
    "_, predicted = torch.max(outputs, 1)\n",
    "\n",
    "print('Predicted: ', ' '.join('%5s' % classes[predicted[j]] for j in range(4)))"
   ]
  },
  {
   "cell_type": "code",
   "execution_count": 68,
   "metadata": {},
   "outputs": [
    {
     "name": "stdout",
     "output_type": "stream",
     "text": [
      "Accuracy of the network on the 2500 test images: 98 %\n"
     ]
    }
   ],
   "source": [
    "correct = 0\n",
    "total = 0\n",
    "with torch.no_grad():\n",
    "    for data in testloader:\n",
    "        images, labels = data\n",
    "        outputs = net(images)\n",
    "        _, predicted = torch.max(outputs.data, 1)\n",
    "        total += labels.size(0)\n",
    "        correct += (predicted == labels).sum().item()\n",
    "\n",
    "print('Accuracy of the network on the ' + str(len(testloader)) + ' test images: %d %%' % (\n",
    "    100 * correct / total))"
   ]
  },
  {
   "cell_type": "code",
   "execution_count": null,
   "metadata": {},
   "outputs": [],
   "source": []
  }
 ],
 "metadata": {
  "kernelspec": {
   "display_name": "Python 3",
   "language": "python",
   "name": "python3"
  },
  "language_info": {
   "codemirror_mode": {
    "name": "ipython",
    "version": 3
   },
   "file_extension": ".py",
   "mimetype": "text/x-python",
   "name": "python",
   "nbconvert_exporter": "python",
   "pygments_lexer": "ipython3",
   "version": "3.7.3"
  }
 },
 "nbformat": 4,
 "nbformat_minor": 4
}
