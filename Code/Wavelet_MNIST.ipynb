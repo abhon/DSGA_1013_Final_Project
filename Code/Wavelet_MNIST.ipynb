{
 "cells": [
  {
   "cell_type": "code",
   "execution_count": 33,
   "metadata": {},
   "outputs": [],
   "source": [
    "import torch \n",
    "import torchvision\n",
    "import torchvision.transforms as transforms\n",
    "import torch.nn as nn\n",
    "import torch.nn.functional as F\n",
    "import torch.optim as optim\n",
    "import matplotlib.pyplot as plt\n",
    "import numpy as np\n",
    "import pytorch_wavelets as pw\n",
    "from torch.nn.modules.utils import _pair, _quadruple\n",
    "import pywt"
   ]
  },
  {
   "cell_type": "code",
   "execution_count": 2,
   "metadata": {},
   "outputs": [],
   "source": [
    "transform = transforms.Compose([transforms.ToTensor(), \n",
    "                                transforms.Normalize((0.1307,), (0.3081,))])\n",
    "#from online: the mean of MNIST is 0.1307, the std 0.3081\n",
    "# https://discuss.pytorch.org/t/normalization-in-the-mnist-example/457\n",
    "\n",
    "trainset = torchvision.datasets.MNIST(root= '../data', train=True,\n",
    "                                        download=True, transform=transform)\n",
    "#keep batches in 4\n",
    "trainloader = torch.utils.data.DataLoader(trainset, batch_size=4,\n",
    "                                          shuffle=True, num_workers=2)\n",
    "\n",
    "testset = torchvision.datasets.MNIST(root='../data', train=False,\n",
    "                                        download=True, transform=transform)\n",
    "\n",
    "testloader = torch.utils.data.DataLoader(testset, batch_size=4,\n",
    "                                          shuffle=True, num_workers=2)"
   ]
  },
  {
   "cell_type": "code",
   "execution_count": 70,
   "metadata": {},
   "outputs": [],
   "source": [
    "import torch\n",
    "import torch.nn as nn\n",
    "import numpy as np\n",
    "\n",
    "def get_wav(in_channels,  pool=True):\n",
    "    \"\"\"wavelet decomposition using conv2d\"\"\"\n",
    "    \n",
    "    w=pywt.Wavelet('haar')\n",
    "    \n",
    "    dec_hi = torch.Tensor(w.dec_hi[::-1]) \n",
    "    dec_lo = torch.Tensor(w.dec_lo[::-1])\n",
    "    rec_hi = torch.Tensor(w.rec_hi)\n",
    "    rec_lo = torch.Tensor(w.rec_lo)\n",
    "    \n",
    "    filter_LL = dec_lo.unsqueeze(0)*dec_lo.unsqueeze(1)\n",
    "    filter_LH = dec_lo.unsqueeze(0)*dec_hi.unsqueeze(1)\n",
    "    filter_HL = dec_hi.unsqueeze(0)*dec_lo.unsqueeze(1)\n",
    "    filter_HH = dec_hi.unsqueeze(0)*dec_hi.unsqueeze(1)\n",
    " \n",
    "    if pool:\n",
    "        model = nn.Conv2d\n",
    "    else:\n",
    "        model = nn.ConvTranspose2d\n",
    "\n",
    "    LL = model(in_channels, in_channels,\n",
    "             kernel_size=2, stride=2, padding=0, bias=False,\n",
    "             groups=in_channels)\n",
    "    LH = model(in_channels, in_channels,\n",
    "             kernel_size=2, stride=2, padding=0, bias=False,\n",
    "             groups=in_channels)\n",
    "    HL = model(in_channels, in_channels,kernel_size=2, stride=2, padding=0, bias=False,\n",
    "             groups=in_channels)\n",
    "    HH = model(in_channels, in_channels,kernel_size=2, stride=2, padding=0, bias=False,\n",
    "             groups=in_channels)\n",
    "\n",
    "    LL.weight.requires_grad = False\n",
    "    LH.weight.requires_grad = False\n",
    "    HL.weight.requires_grad = False\n",
    "    HH.weight.requires_grad = False\n",
    "\n",
    "    LL.weight.data = filter_LL.float().unsqueeze(0).expand(in_channels, -1, -1, -1)\n",
    "    LH.weight.data = filter_LH.float().unsqueeze(0).expand(in_channels, -1, -1, -1)\n",
    "    HL.weight.data = filter_HL.float().unsqueeze(0).expand(in_channels, -1, -1, -1)\n",
    "    HH.weight.data = filter_HH.float().unsqueeze(0).expand(in_channels, -1, -1, -1)\n",
    "\n",
    "    return LL, LH, HL, HH\n",
    "\n",
    "class WavePool(nn.Module):\n",
    "    def __init__(self,in_channels):\n",
    "        super(WavePool,self).__init__()\n",
    "        self.LL,self.LH,self.HL,self.HH = get_wav(in_channels)\n",
    "\n",
    "    def forward(self,x):\n",
    "        return self.LL(x)"
   ]
  },
  {
   "cell_type": "code",
   "execution_count": 73,
   "metadata": {},
   "outputs": [],
   "source": [
    "class Net(nn.Module):\n",
    "    def __init__(self):\n",
    "        super(Net, self).__init__()\n",
    "        self.conv1 = nn.Conv2d(1, 32, 3, 1)\n",
    "        self.conv2 = nn.Conv2d(32, 64, 3, 1)\n",
    "        self.dropout1 = nn.Dropout2d(0.25)\n",
    "        self.dropout2 = nn.Dropout2d(0.5)\n",
    "        self.fc1 = nn.Linear(9216, 128)\n",
    "        self.fc2 = nn.Linear(128, 10)\n",
    "        self.pool = WavePool(64)\n",
    "        \n",
    "    def forward(self, x):\n",
    "        x = self.conv1(x)\n",
    "        x = F.relu(x)\n",
    "        x = self.conv2(x)\n",
    "        x = F.relu(x)\n",
    "        x = self.pool(x)\n",
    "        x = self.dropout1(x)\n",
    "        x = torch.flatten(x, 1)\n",
    "        x = self.fc1(x)\n",
    "        x = F.relu(x)\n",
    "        x = self.dropout2(x)\n",
    "        x = self.fc2(x)\n",
    "        output = F.log_softmax(x, dim=1)\n",
    "        return output\n",
    "\n",
    "net = Net()"
   ]
  },
  {
   "cell_type": "code",
   "execution_count": 74,
   "metadata": {},
   "outputs": [
    {
     "name": "stdout",
     "output_type": "stream",
     "text": [
      "[1,  1000] running loss: 0.885\n",
      "[1,  2000] running loss: 0.206\n",
      "[1,  3000] running loss: 0.096\n",
      "[1,  4000] running loss: 0.063\n",
      "[1,  5000] running loss: 0.044\n",
      "[1,  6000] running loss: 0.032\n",
      "[1,  7000] running loss: 0.025\n",
      "[1,  8000] running loss: 0.022\n",
      "[1,  9000] running loss: 0.018\n",
      "[1, 10000] running loss: 0.015\n",
      "[1, 11000] running loss: 0.013\n",
      "[1, 12000] running loss: 0.013\n",
      "[1, 13000] running loss: 0.012\n",
      "[1, 14000] running loss: 0.010\n",
      "[1, 15000] running loss: 0.009\n",
      "Epoch 1, Training Loss:  0.243, Testing Loss: 0.121, Testing Accuracy: 0.965\n",
      "[2,  1000] running loss: 0.119\n",
      "[2,  2000] running loss: 0.053\n",
      "[2,  3000] running loss: 0.031\n",
      "[2,  4000] running loss: 0.029\n",
      "[2,  5000] running loss: 0.023\n",
      "[2,  6000] running loss: 0.018\n",
      "[2,  7000] running loss: 0.015\n",
      "[2,  8000] running loss: 0.014\n",
      "[2,  9000] running loss: 0.013\n",
      "[2, 10000] running loss: 0.010\n",
      "[2, 11000] running loss: 0.011\n",
      "[2, 12000] running loss: 0.009\n",
      "[2, 13000] running loss: 0.007\n",
      "[2, 14000] running loss: 0.007\n",
      "[2, 15000] running loss: 0.006\n",
      "Epoch 2, Training Loss:  0.106, Testing Loss: 0.094, Testing Accuracy: 0.973\n",
      "[3,  1000] running loss: 0.095\n",
      "[3,  2000] running loss: 0.039\n",
      "[3,  3000] running loss: 0.027\n",
      "[3,  4000] running loss: 0.022\n",
      "[3,  5000] running loss: 0.016\n",
      "[3,  6000] running loss: 0.013\n",
      "[3,  7000] running loss: 0.012\n",
      "[3,  8000] running loss: 0.011\n",
      "[3,  9000] running loss: 0.009\n",
      "[3, 10000] running loss: 0.007\n",
      "[3, 11000] running loss: 0.007\n",
      "[3, 12000] running loss: 0.006\n",
      "[3, 13000] running loss: 0.006\n",
      "[3, 14000] running loss: 0.006\n",
      "[3, 15000] running loss: 0.005\n",
      "Epoch 3, Training Loss:  0.080, Testing Loss: 0.082, Testing Accuracy: 0.976\n",
      "[4,  1000] running loss: 0.060\n",
      "[4,  2000] running loss: 0.038\n",
      "[4,  3000] running loss: 0.019\n",
      "[4,  4000] running loss: 0.017\n",
      "[4,  5000] running loss: 0.015\n",
      "[4,  6000] running loss: 0.012\n",
      "[4,  7000] running loss: 0.011\n",
      "[4,  8000] running loss: 0.009\n",
      "[4,  9000] running loss: 0.007\n",
      "[4, 10000] running loss: 0.007\n",
      "[4, 11000] running loss: 0.007\n",
      "[4, 12000] running loss: 0.006\n",
      "[4, 13000] running loss: 0.005\n",
      "[4, 14000] running loss: 0.004\n",
      "[4, 15000] running loss: 0.005\n",
      "Epoch 4, Training Loss:  0.068, Testing Loss: 0.069, Testing Accuracy: 0.980\n",
      "[5,  1000] running loss: 0.065\n",
      "[5,  2000] running loss: 0.024\n",
      "[5,  3000] running loss: 0.018\n",
      "[5,  4000] running loss: 0.016\n",
      "[5,  5000] running loss: 0.012\n",
      "[5,  6000] running loss: 0.010\n",
      "[5,  7000] running loss: 0.009\n",
      "[5,  8000] running loss: 0.007\n",
      "[5,  9000] running loss: 0.005\n",
      "[5, 10000] running loss: 0.005\n",
      "[5, 11000] running loss: 0.005\n",
      "[5, 12000] running loss: 0.005\n",
      "[5, 13000] running loss: 0.004\n",
      "[5, 14000] running loss: 0.005\n",
      "[5, 15000] running loss: 0.004\n",
      "Epoch 5, Training Loss:  0.058, Testing Loss: 0.071, Testing Accuracy: 0.980\n",
      "Finished Training\n"
     ]
    }
   ],
   "source": [
    "net = Net()\n",
    "train_loss = []\n",
    "run_loss = []\n",
    "test_loss = []\n",
    "test_accuracy = []\n",
    "\n",
    "#loss function: Log Loss\n",
    "criterion = nn.CrossEntropyLoss()\n",
    "#stochastic gradient descent\n",
    "optimizer = optim.SGD(net.parameters(), lr=0.001, momentum=0.9)\n",
    "\n",
    "\n",
    "for epoch in range(5):  # loop/over the dataset multiple times\n",
    "    training_loss = 0\n",
    "    running_loss = 0.0\n",
    "    num_images = 0\n",
    "\n",
    "    for i, data in enumerate(trainloader, 0):\n",
    "\n",
    "        # get the inputs; data is a list of [inputs, labels]\n",
    "        inputs, labels = data\n",
    "\n",
    "        # zero the parameter gradients\n",
    "        optimizer.zero_grad()\n",
    "\n",
    "        # forward + backward + optimize\n",
    "        outputs = net(inputs)\n",
    "        loss = criterion(outputs, labels)\n",
    "        loss.backward()\n",
    "        optimizer.step()\n",
    "        num_images += inputs.size(1)\n",
    "        # print statistics\n",
    "        running_loss += loss.item()\n",
    "        training_loss += loss.item()\n",
    "        if i % 1000 == 999:    # print every 1000 mini-batches\n",
    "            print('[%d, %5d] running loss: %.3f' %\n",
    "                  (epoch + 1, i + 1, running_loss / num_images))\n",
    "            run_loss.append(running_loss / num_images)\n",
    "            running_loss = 0.0\n",
    "    train_loss.append(training_loss / num_images)\n",
    "\n",
    "    testing_loss = 0\n",
    "    correct = 0\n",
    "    \n",
    "    with torch.no_grad():\n",
    "        for data, target in testloader:\n",
    "            output = net(data)\n",
    "            testing_loss += F.nll_loss(output, target, reduction='sum').item()  # sum up batch loss\n",
    "            pred = output.argmax(dim=1, keepdim=True)  # get the index of the max log-probability\n",
    "            correct += pred.eq(target.view_as(pred)).sum().item()\n",
    "    \n",
    "    \n",
    "    test_loss.append(testing_loss / len(testloader.dataset))\n",
    "    test_accuracy.append(correct/ len(testloader.dataset))\n",
    "    \n",
    "    print('Epoch %d, Training Loss:  %.3f, Testing Loss: %.3f, Testing Accuracy: %.3f' %\n",
    "         (epoch + 1, training_loss / num_images, testing_loss / len(testloader.dataset), correct/ len(testloader.dataset))) \n",
    "\n",
    "print('Finished Training')"
   ]
  },
  {
   "cell_type": "code",
   "execution_count": 77,
   "metadata": {},
   "outputs": [
    {
     "data": {
      "text/plain": [
       "Text(0, 0.5, 'Error')"
      ]
     },
     "execution_count": 77,
     "metadata": {},
     "output_type": "execute_result"
    },
    {
     "data": {
      "image/png": "[encoded data removed]",
      "text/plain": [
       "<Figure size 864x432 with 1 Axes>"
      ]
     },
     "metadata": {
      "needs_background": "light"
     },
     "output_type": "display_data"
    }
   ],
   "source": [
    "plt.figure(figsize =(12,6))\n",
    "plt.plot(np.arange(1, 6, step=1), test_loss, label = 'Testing Loss')\n",
    "plt.plot(np.arange(1, 6, step=1), train_loss, label = 'Training Loss')\n",
    "plt.title('Training & Testing Loss by Epoch: Wavelet Pooling')\n",
    "plt.xticks(np.arange(1, 6, step=1))\n",
    "plt.legend()\n",
    "plt.xlabel('Epoch')\n",
    "plt.ylabel('Error')"
   ]
  },
  {
   "cell_type": "code",
   "execution_count": 78,
   "metadata": {},
   "outputs": [
    {
     "data": {
      "text/plain": [
       "[0.24339017104393787,\n",
       " 0.10617402998864378,\n",
       " 0.08029983931100869,\n",
       " 0.0683433970626892,\n",
       " 0.05790634559947663]"
      ]
     },
     "execution_count": 78,
     "metadata": {},
     "output_type": "execute_result"
    }
   ],
   "source": [
    "train_loss"
   ]
  },
  {
   "cell_type": "code",
   "execution_count": 79,
   "metadata": {},
   "outputs": [
    {
     "data": {
      "text/plain": [
       "[0.12089052295820647,\n",
       " 0.09395138823905798,\n",
       " 0.08169783313657202,\n",
       " 0.0693093723381667,\n",
       " 0.07129114428899541]"
      ]
     },
     "execution_count": 79,
     "metadata": {},
     "output_type": "execute_result"
    }
   ],
   "source": [
    "test_loss"
   ]
  },
  {
   "cell_type": "code",
   "execution_count": null,
   "metadata": {},
   "outputs": [],
   "source": []
  },
  {
   "cell_type": "code",
   "execution_count": null,
   "metadata": {},
   "outputs": [],
   "source": []
  },
  {
   "cell_type": "code",
   "execution_count": null,
   "metadata": {},
   "outputs": [],
   "source": []
  }
 ],
 "metadata": {
  "kernelspec": {
   "display_name": "Python 3",
   "language": "python",
   "name": "python3"
  },
  "language_info": {
   "codemirror_mode": {
    "name": "ipython",
    "version": 3
   },
   "file_extension": ".py",
   "mimetype": "text/x-python",
   "name": "python",
   "nbconvert_exporter": "python",
   "pygments_lexer": "ipython3",
   "version": "3.7.3"
  }
 },
 "nbformat": 4,
 "nbformat_minor": 4
}
